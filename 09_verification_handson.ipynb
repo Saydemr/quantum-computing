{
 "cells": [
  {
   "cell_type": "markdown",
   "metadata": {},
   "source": [
    "# Quantum Verification Hand-on"
   ]
  },
  {
   "cell_type": "markdown",
   "metadata": {},
   "source": [
    "## Setup and Installation\n",
    "\n",
    "To install MQT QCEC run:\n",
    "```console\n",
    "pip install mqt.qcec\n",
    "```\n",
    "in your preferred virtual environment."
   ]
  },
  {
   "cell_type": "markdown",
   "metadata": {
    "collapsed": false
   },
   "source": [
    "## Checking the equivalence of two circuits"
   ]
  },
  {
   "cell_type": "code",
   "execution_count": null,
   "metadata": {
    "collapsed": false
   },
   "outputs": [],
   "source": [
    "from qiskit import QuantumCircuit\n",
    "import numpy as np\n",
    "\n",
    "qc1 = QuantumCircuit(2)\n",
    "qc1.swap(0, 1)\n",
    "\n",
    "# qc1 = QuantumCircuit(2)\n",
    "# qc1.cx(0, 1)\n",
    "\n",
    "# num_qubits = 8\n",
    "# qc1 = QuantumCircuit(num_qubits)\n",
    "# qc1.x(num_qubits - 1)\n",
    "# qc1.h(num_qubits - 1)\n",
    "# qc1.mcx(list(range(num_qubits - 1)), num_qubits - 1)\n",
    "# qc1.h(num_qubits - 1)\n",
    "# qc1.x(num_qubits - 1)\n",
    "\n",
    "qc1.draw(output=\"mpl\")"
   ]
  },
  {
   "cell_type": "code",
   "execution_count": null,
   "metadata": {
    "collapsed": false
   },
   "outputs": [],
   "source": [
    "qc2 = QuantumCircuit(2)\n",
    "qc2.cx(0, 1)\n",
    "qc2.cx(1, 0)\n",
    "qc2.cx(0, 1)\n",
    "\n",
    "# qc2 = QuantumCircuit(2)\n",
    "# qc2.h(0)\n",
    "# qc2.h(1)\n",
    "# qc2.cx(1, 0)\n",
    "# qc2.h(0)\n",
    "# qc2.h(1)\n",
    "\n",
    "# qc2 = QuantumCircuit(num_qubits)\n",
    "# qc2.x(num_qubits - 1)\n",
    "# qc2.mcp(np.pi, list(range(num_qubits - 1)), num_qubits - 1)\n",
    "# qc2.x(num_qubits - 1)\n",
    "\n",
    "qc2.draw(output=\"mpl\")"
   ]
  },
  {
   "cell_type": "markdown",
   "metadata": {
    "collapsed": false
   },
   "source": [
    "## Using Qiskit to verify the equivalence"
   ]
  },
  {
   "cell_type": "code",
   "execution_count": null,
   "metadata": {
    "collapsed": false
   },
   "outputs": [],
   "source": [
    "from qiskit.quantum_info import Operator\n",
    "\n",
    "op1 = Operator(qc1)\n",
    "op2 = Operator(qc2)\n",
    "print(f\"Are the two operators equivalent? {op1 == op2}\")"
   ]
  },
  {
   "cell_type": "code",
   "execution_count": null,
   "metadata": {
    "collapsed": false
   },
   "outputs": [],
   "source": [
    "%timeit op1 = Operator(qc1); op2 = Operator(qc2); op1 == op2"
   ]
  },
  {
   "cell_type": "markdown",
   "metadata": {
    "collapsed": false
   },
   "source": [
    "## Using TKET to verify the equivalence"
   ]
  },
  {
   "cell_type": "code",
   "execution_count": null,
   "metadata": {
    "collapsed": false
   },
   "outputs": [],
   "source": [
    "from pytket.extensions.qiskit import qiskit_to_tk\n",
    "from pytket.circuit.display import render_circuit_jupyter\n",
    "from pytket.passes import auto_rebase_pass\n",
    "from pytket.circuit import OpType\n",
    "\n",
    "circ1 = qiskit_to_tk(qc1.decompose(reps=2))\n",
    "\n",
    "# custom = auto_rebase_pass(gateset={OpType.Rz, OpType.Rx, OpType.X, OpType.Z, OpType.H, OpType.CX, OpType.CZ})\n",
    "# custom.apply(circ1)\n",
    "\n",
    "render_circuit_jupyter(circ1)"
   ]
  },
  {
   "cell_type": "code",
   "execution_count": null,
   "metadata": {
    "collapsed": false
   },
   "outputs": [],
   "source": [
    "circ2 = qiskit_to_tk(qc2.decompose())\n",
    "# custom.apply(circ2)\n",
    "render_circuit_jupyter(circ2)"
   ]
  },
  {
   "cell_type": "code",
   "execution_count": null,
   "metadata": {
    "collapsed": false
   },
   "outputs": [],
   "source": [
    "from pytket.zx import circuit_to_zx\n",
    "import graphviz as gv\n",
    "\n",
    "zx1, _ = circuit_to_zx(circ1)\n",
    "gv.Source(zx1.to_graphviz_str())"
   ]
  },
  {
   "cell_type": "code",
   "execution_count": null,
   "metadata": {
    "collapsed": false
   },
   "outputs": [],
   "source": [
    "zx2, _ = circuit_to_zx(circ2)\n",
    "gv.Source(zx2.to_graphviz_str())"
   ]
  },
  {
   "cell_type": "code",
   "execution_count": null,
   "metadata": {
    "collapsed": false
   },
   "outputs": [],
   "source": [
    "qc_combined = qc1.compose(qc2.inverse())\n",
    "qc_combined.draw(output=\"mpl\")"
   ]
  },
  {
   "cell_type": "code",
   "execution_count": null,
   "metadata": {
    "collapsed": false
   },
   "outputs": [],
   "source": [
    "from pytket.passes import FullPeepholeOptimise\n",
    "\n",
    "circ_combined = qiskit_to_tk(qc_combined.decompose(reps=2))\n",
    "# custom.apply(circ_combined)\n",
    "FullPeepholeOptimise().apply(circ_combined)\n",
    "render_circuit_jupyter(circ_combined)"
   ]
  },
  {
   "cell_type": "code",
   "execution_count": null,
   "metadata": {
    "collapsed": false
   },
   "outputs": [],
   "source": [
    "%%timeit circ_combined = qiskit_to_tk(qc_combined.decompose(reps=2))\n",
    "FullPeepholeOptimise().apply(circ_combined)"
   ]
  },
  {
   "cell_type": "markdown",
   "metadata": {
    "collapsed": false
   },
   "source": [
    "## Verification using MQT QCEC"
   ]
  },
  {
   "cell_type": "code",
   "execution_count": null,
   "metadata": {
    "collapsed": false
   },
   "outputs": [],
   "source": [
    "from mqt import qcec\n",
    "\n",
    "qcec.verify(qc1, qc2)"
   ]
  },
  {
   "cell_type": "code",
   "execution_count": null,
   "metadata": {
    "collapsed": false
   },
   "outputs": [],
   "source": [
    "%timeit qcec.verify(qc1, qc2)"
   ]
  },
  {
   "cell_type": "markdown",
   "metadata": {},
   "source": [
    "## Verification of Compilation Flow Results"
   ]
  },
  {
   "cell_type": "code",
   "execution_count": null,
   "metadata": {},
   "outputs": [],
   "source": [
    "from qiskit import transpile\n",
    "from qiskit.providers.fake_provider import FakeCasablancaV2\n",
    "from qiskit.quantum_info import random_clifford"
   ]
  },
  {
   "cell_type": "markdown",
   "metadata": {
    "collapsed": false
   },
   "source": [
    "### Considered Circuits\n",
    "\n",
    "Let's just consider a random Clifford circuit with 7 qubits."
   ]
  },
  {
   "cell_type": "code",
   "execution_count": null,
   "metadata": {
    "collapsed": false
   },
   "outputs": [],
   "source": [
    "num_qubits = 7\n",
    "depth = num_qubits\n",
    "seed = 42\n",
    "qc = random_clifford(num_qubits, seed=seed).to_circuit()\n",
    "qc.measure_all()\n",
    "qc.draw(output=\"mpl\", fold=-1)"
   ]
  },
  {
   "cell_type": "markdown",
   "metadata": {
    "collapsed": false
   },
   "source": [
    "Let's compile that circuit to a 7-qubit IBM device"
   ]
  },
  {
   "cell_type": "code",
   "execution_count": null,
   "metadata": {
    "collapsed": false
   },
   "outputs": [],
   "source": [
    "optimization_level=3\n",
    "qc_comp = transpile(qc, backend=FakeCasablancaV2(), optimization_level=optimization_level)\n",
    "qc_comp.draw(output=\"mpl\")"
   ]
  },
  {
   "cell_type": "markdown",
   "metadata": {
    "collapsed": false
   },
   "source": [
    "### Checking the equivalence of these circuits using MQT QCEC"
   ]
  },
  {
   "cell_type": "code",
   "execution_count": null,
   "metadata": {
    "collapsed": false
   },
   "outputs": [],
   "source": [
    "from mqt import qcec\n",
    "\n",
    "qcec.verify_compilation(qc, qc_comp, optimization_level=optimization_level)"
   ]
  },
  {
   "cell_type": "code",
   "execution_count": null,
   "metadata": {
    "collapsed": false
   },
   "outputs": [],
   "source": [
    "%timeit qcec.verify_compilation(qc, qc_comp, optimization_level=optimization_level)"
   ]
  },
  {
   "cell_type": "markdown",
   "metadata": {
    "collapsed": false
   },
   "source": [
    "## Playground"
   ]
  },
  {
   "cell_type": "code",
   "execution_count": null,
   "metadata": {
    "collapsed": false
   },
   "outputs": [],
   "source": [
    "from mqt.qcec import Configuration, EquivalenceCheckingManager\n",
    "\n",
    "num_qubits = 32\n",
    "qc1 = QuantumCircuit(num_qubits)\n",
    "qc1.x(num_qubits - 1)\n",
    "qc1.h(num_qubits - 1)\n",
    "qc1.mcx(list(range(num_qubits - 1)), num_qubits - 1)\n",
    "qc1.h(num_qubits - 1)\n",
    "qc1.x(num_qubits - 1)\n",
    "\n",
    "qc2 = QuantumCircuit(num_qubits)\n",
    "qc2.x(num_qubits - 1)\n",
    "qc2.mcp(np.pi, list(range(num_qubits - 1)), num_qubits - 1)\n",
    "qc2.x(num_qubits - 1)\n",
    "\n",
    "config = Configuration()\n",
    "\n",
    "ecm = EquivalenceCheckingManager(circ1=qc1, circ2=qc2, config=config)\n",
    "\n",
    "ecm.run()\n",
    "\n",
    "ecm"
   ]
  },
  {
   "cell_type": "code",
   "execution_count": null,
   "metadata": {
    "collapsed": false
   },
   "outputs": [],
   "source": []
  }
 ],
 "metadata": {
  "kernelspec": {
   "display_name": "Python 3",
   "language": "python",
   "name": "python3"
  },
  "language_info": {
   "codemirror_mode": {
    "name": "ipython",
    "version": 3
   },
   "file_extension": ".py",
   "mimetype": "text/x-python",
   "name": "python",
   "nbconvert_exporter": "python",
   "pygments_lexer": "ipython3",
   "version": "3.10.12"
  }
 },
 "nbformat": 4,
 "nbformat_minor": 2
}
