{
 "cells": [
  {
   "cell_type": "markdown",
   "metadata": {},
   "source": [
    "# Quantum Verification Hand-on"
   ]
  },
  {
   "cell_type": "markdown",
   "metadata": {},
   "source": [
    "## Setup and Installation\n",
    "\n",
    "To install MQT QCEC run:\n",
    "```console\n",
    "pip install mqt.qcec\n",
    "```\n",
    "in your preferred virtual environment."
   ]
  },
  {
   "cell_type": "markdown",
   "metadata": {
    "collapsed": false
   },
   "source": [
    "## Checking the equivalence of two circuits"
   ]
  },
  {
   "cell_type": "code",
   "execution_count": 21,
   "metadata": {
    "collapsed": false
   },
   "outputs": [
    {
     "data": {
      "image/png": "[encoded data removed]",
      "text/plain": [
       "<Figure size 454.517x200.667 with 1 Axes>"
      ]
     },
     "execution_count": 21,
     "metadata": {},
     "output_type": "execute_result"
    }
   ],
   "source": [
    "from qiskit import QuantumCircuit\n",
    "import numpy as np\n",
    "import numpy as np\n",
    "from qiskit import *\n",
    "from qiskit import Aer\n",
    "\n",
    "\n",
    "qc3 = QuantumCircuit(2)\n",
    "qc3.cnot(0,1)\n",
    "qc3.sdg(1)\n",
    "qc3.cnot(0,1)\n",
    "qc3.s(1)\n",
    "\n",
    "\n",
    "qc3.draw(output=\"mpl\")"
   ]
  },
  {
   "cell_type": "code",
   "execution_count": 22,
   "metadata": {
    "collapsed": false
   },
   "outputs": [
    {
     "name": "stdout",
     "output_type": "stream",
     "text": [
      "Operator([[ 0.707+0.j,  0.   +0.j,  0.707-0.j,  0.   +0.j],\n",
      "          [ 0.   +0.j,  0.707+0.j,  0.   +0.j,  0.707-0.j],\n",
      "          [ 0.707+0.j,  0.   +0.j, -0.707+0.j,  0.   +0.j],\n",
      "          [ 0.   +0.j,  0.707+0.j,  0.   +0.j, -0.707+0.j]],\n",
      "         input_dims=(2, 2), output_dims=(2, 2))\n"
     ]
    },
    {
     "data": {
      "image/png": "[encoded data removed]",
      "text/plain": [
       "<Figure size 269.266x200.667 with 1 Axes>"
      ]
     },
     "execution_count": 22,
     "metadata": {},
     "output_type": "execute_result"
    }
   ],
   "source": [
    "qc4 = QuantumCircuit(2)\n",
    "# qc4.sdg(1)\n",
    "# qc4.cnot(0,1)\n",
    "qc4.h(1)\n",
    "\n",
    "# qc4.s(1)\n",
    "# qc4.cnot(0,1)\n",
    "\n",
    "backend = Aer.get_backend('unitary_simulator')\n",
    "\n",
    "job = execute(qc4, backend)\n",
    "result = job.result()\n",
    "\n",
    "print(result.get_unitary(qc4, decimals=3))\n",
    "\n",
    "qc4.draw(output=\"mpl\")\n",
    "\n",
    "\n",
    "a = QuantumRegister(1, \"a\")\n",
    "b = QuantumRegister(1, \"b\")\n",
    "\n",
    "circuit = QuantumCircuit(a, b)\n",
    "\n",
    "circuit.cnot(0,1)\n",
    "circuit.z(0)\n",
    "\n",
    "\n",
    "c = QuantumRegister(1, \"c\")\n",
    "d = QuantumRegister(1, \"d\")\n",
    "\n",
    "circuit2 = QuantumCircuit(c, d)\n",
    "\n",
    "circuit2.z(0)\n",
    "circuit2.cnot(0,1)\n",
    "\n",
    "circuit.draw(output=\"mpl\")\n",
    "# circuit2.draw(output=\"mpl\")"
   ]
  },
  {
   "cell_type": "code",
   "execution_count": 23,
   "metadata": {},
   "outputs": [
    {
     "data": {
      "image/png": "[encoded data removed]",
      "text/plain": [
       "<Figure size 269.064x117.056 with 1 Axes>"
      ]
     },
     "execution_count": 23,
     "metadata": {},
     "output_type": "execute_result"
    }
   ],
   "source": [
    "qc5 = QuantumCircuit(1)\n",
    "\n",
    "qc5.h(0)\n",
    "qc5.sdg(0)\n",
    "qc5.draw(output=\"mpl\")"
   ]
  },
  {
   "cell_type": "code",
   "execution_count": 24,
   "metadata": {},
   "outputs": [
    {
     "data": {
      "image/png": "[encoded data removed]",
      "text/plain": [
       "<Figure size 269.064x117.056 with 1 Axes>"
      ]
     },
     "execution_count": 24,
     "metadata": {},
     "output_type": "execute_result"
    }
   ],
   "source": [
    "qc6 = QuantumCircuit(1)\n",
    "\n",
    "qc6.s(0)\n",
    "qc6.h(0)\n",
    "qc6.draw(output=\"mpl\")"
   ]
  },
  {
   "cell_type": "markdown",
   "metadata": {
    "collapsed": false
   },
   "source": [
    "## Using Qiskit to verify the equivalence"
   ]
  },
  {
   "cell_type": "code",
   "execution_count": 25,
   "metadata": {
    "collapsed": false
   },
   "outputs": [
    {
     "name": "stdout",
     "output_type": "stream",
     "text": [
      "Are the two operators equivalent? False\n"
     ]
    }
   ],
   "source": [
    "from qiskit.quantum_info import Operator\n",
    "\n",
    "op1 = Operator(qc3)\n",
    "# print(op1)\n",
    "op2 = Operator(qc4)\n",
    "# print(op2)\n",
    "print(f\"Are the two operators equivalent? {op1 == op2}\")\n",
    "\n",
    "# op3 = Operator(qc5)\n",
    "# # print(op3)\n",
    "# op4 = Operator(qc6)\n",
    "# # print(op4)\n",
    "# print(f\"Are the two operators equivalent? {op3 == op4}\")"
   ]
  },
  {
   "cell_type": "markdown",
   "metadata": {
    "collapsed": false
   },
   "source": [
    "## Verification using MQT QCEC"
   ]
  },
  {
   "cell_type": "code",
   "execution_count": 26,
   "metadata": {
    "collapsed": false
   },
   "outputs": [
    {
     "data": {
      "text/plain": [
       "{\n",
       "  \"check_time\": 0.002111767,\n",
       "  \"equivalence\": \"not_equivalent\",\n",
       "  \"parameterized\": {\n",
       "    \"performed_instantiations\": 0\n",
       "  },\n",
       "  \"preprocessing_time\": 0.000562837,\n",
       "  \"simulations\": {\n",
       "    \"performed\": 0,\n",
       "    \"started\": 4\n",
       "  }\n",
       "}"
      ]
     },
     "execution_count": 26,
     "metadata": {},
     "output_type": "execute_result"
    }
   ],
   "source": [
    "from mqt import qcec\n",
    "\n",
    "qcec.verify(circuit, circuit2)\n",
    "\n",
    "# qcec.verify(qc5, qc6)"
   ]
  }
 ],
 "metadata": {
  "kernelspec": {
   "display_name": "Python 3",
   "language": "python",
   "name": "python3"
  },
  "language_info": {
   "codemirror_mode": {
    "name": "ipython",
    "version": 3
   },
   "file_extension": ".py",
   "mimetype": "text/x-python",
   "name": "python",
   "nbconvert_exporter": "python",
   "pygments_lexer": "ipython3",
   "version": "3.10.12"
  }
 },
 "nbformat": 4,
 "nbformat_minor": 2
}
