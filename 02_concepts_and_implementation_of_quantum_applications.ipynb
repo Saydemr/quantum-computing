{
 "cells": [
  {
   "cell_type": "code",
   "execution_count": null,
   "metadata": {
    "collapsed": false
   },
   "outputs": [],
   "source": [
    "import sys\n",
    "!{sys.executable} -m pip install \"qiskit[all]\" mqt.ddsim"
   ]
  },
  {
   "attachments": {},
   "cell_type": "markdown",
   "id": "5abc7e14",
   "metadata": {},
   "source": [
    "# Grover Example"
   ]
  },
  {
   "cell_type": "code",
   "execution_count": null,
   "id": "5feb609a",
   "metadata": {},
   "outputs": [],
   "source": [
    "from qiskit import *\n",
    "from numpy import pi\n",
    "import numpy as np\n",
    "from qiskit.algorithms import Grover"
   ]
  },
  {
   "attachments": {},
   "cell_type": "markdown",
   "id": "2486a157",
   "metadata": {},
   "source": [
    "## Initialization"
   ]
  },
  {
   "cell_type": "code",
   "execution_count": null,
   "id": "942850ec",
   "metadata": {
    "scrolled": true
   },
   "outputs": [],
   "source": [
    "a = QuantumRegister(1, \"a\")\n",
    "b = QuantumRegister(1, \"b\")\n",
    "c = QuantumRegister(1, \"c\")\n",
    "d = QuantumRegister(1, \"d\")\n",
    "flag = QuantumRegister(1, \"flag\")\n",
    "creg_c = ClassicalRegister(4, \"classical\")\n",
    "circuit = QuantumCircuit(a, b, c, d, flag, creg_c)\n",
    "circuit.draw(output=\"mpl\")"
   ]
  },
  {
   "attachments": {},
   "cell_type": "markdown",
   "id": "a3cfb7c0",
   "metadata": {},
   "source": [
    "## Superposition of all States"
   ]
  },
  {
   "cell_type": "code",
   "execution_count": null,
   "id": "9efa19d4",
   "metadata": {},
   "outputs": [],
   "source": [
    "# put all qubits to superposition\n",
    "circuit.h(a)\n",
    "circuit.h(b)\n",
    "circuit.h(c)\n",
    "circuit.h(d)\n",
    "\n",
    "# apply \"not\" gate to flag. This is important for marking the solution state\n",
    "circuit.x(flag)\n",
    "circuit.barrier(a, b, c, d, flag)\n",
    "circuit.draw(output=\"mpl\")"
   ]
  },
  {
   "attachments": {},
   "cell_type": "markdown",
   "id": "80f181dd",
   "metadata": {},
   "source": [
    "## Grover Iterations: Oracle and Diffusor / Amplitude Amplification"
   ]
  },
  {
   "cell_type": "code",
   "execution_count": null,
   "id": "ca5d4bb7",
   "metadata": {},
   "outputs": [],
   "source": [
    "\n",
    "for i in range(400):\n",
    "    # Oracle\n",
    "    # 3 qubits in the picture before (d != c, b != d, a != b)\n",
    "    circuit.cx(d, c)\n",
    "    circuit.cx(b, d)\n",
    "    circuit.cx(a, b)\n",
    "    # if b c d are 1, apply phase to flag, which flips the amplitude\n",
    "    circuit.mcp(np.pi, [b, c, d], flag)\n",
    "    \n",
    "    # operation is reversible, Uncompute\n",
    "    # Oracle takes the input gives the input as an output, and only marks the solution.\n",
    "    # That's why we have uncompute.\n",
    "    circuit.cx(a, b)\n",
    "    circuit.cx(b, d)\n",
    "    circuit.cx(d, c)\n",
    "    circuit.barrier(a, b, c, d)\n",
    "    \n",
    "    # Diffusor / Amplitude Amplification\n",
    "    # standard structure of hadamard. always the same: hadamard - x - phase gate - x - hadamard\n",
    "    circuit.h(a)\n",
    "    circuit.h(b)\n",
    "    circuit.h(c)\n",
    "    circuit.h(d)\n",
    "    circuit.x(d)\n",
    "    circuit.x(a)\n",
    "    circuit.x(b)\n",
    "    circuit.x(c)\n",
    "    circuit.mcp(np.pi, [a, b, c], d)\n",
    "    circuit.x(d)\n",
    "    circuit.x(c)\n",
    "    circuit.x(b)\n",
    "    circuit.x(a)\n",
    "    circuit.h(d)\n",
    "    circuit.h(c)\n",
    "    circuit.h(b)\n",
    "    circuit.h(a)\n",
    "    circuit.barrier(a, b, c, d)\n",
    "    \n",
    "# circuit.draw(output=\"mpl\", fold=-1)"
   ]
  },
  {
   "cell_type": "code",
   "execution_count": null,
   "id": "3dde8e2a",
   "metadata": {},
   "outputs": [],
   "source": [
    "# print(circuit.qasm())"
   ]
  },
  {
   "attachments": {},
   "cell_type": "markdown",
   "id": "a4f22278",
   "metadata": {},
   "source": [
    "## Measurements"
   ]
  },
  {
   "cell_type": "code",
   "execution_count": null,
   "id": "3ce77c16",
   "metadata": {},
   "outputs": [],
   "source": [
    "# take the qubit a and measure it to classical register 0\n",
    "circuit.measure(a, creg_c[0])\n",
    "circuit.measure(b, creg_c[1])\n",
    "circuit.measure(c, creg_c[2])\n",
    "circuit.measure(d, creg_c[3])\n",
    "# circuit.draw(output=\"mpl\", fold=-1)"
   ]
  },
  {
   "attachments": {},
   "cell_type": "markdown",
   "id": "1a6069bf",
   "metadata": {},
   "source": [
    "## Execution on Simulator"
   ]
  },
  {
   "cell_type": "code",
   "execution_count": null,
   "id": "f3702262",
   "metadata": {},
   "outputs": [],
   "source": [
    "from mqt import ddsim\n",
    "from qiskit.visualization import plot_histogram"
   ]
  },
  {
   "cell_type": "code",
   "execution_count": null,
   "id": "2c87af7c",
   "metadata": {
    "scrolled": true
   },
   "outputs": [],
   "source": [
    "backend = ddsim.DDSIMProvider().get_backend(\"qasm_simulator\")\n",
    "job = execute(circuit, backend, shots=1000)\n",
    "counts = job.result().get_counts(circuit)\n",
    "plot_histogram(counts, color=\"midnightblue\", title=\"Histogram\", figsize=(6, 4))"
   ]
  },
  {
   "attachments": {},
   "cell_type": "markdown",
   "id": "d2ff16eb",
   "metadata": {},
   "source": [
    "# MaxCut with VQAs\n",
    "Example is adapted from https://qiskit.org/documentation/optimization/tutorials/06_examples_max_cut_and_tsp.html"
   ]
  },
  {
   "cell_type": "code",
   "execution_count": null,
   "id": "6044a5eb",
   "metadata": {},
   "outputs": [],
   "source": [
    "import matplotlib.pyplot as plt\n",
    "import matplotlib.axes as axes\n",
    "import numpy as np\n",
    "import networkx as nx\n",
    "\n",
    "from qiskit import Aer\n",
    "from qiskit.tools.visualization import plot_histogram\n",
    "from qiskit.circuit.library import TwoLocal\n",
    "from qiskit_optimization.applications import Maxcut, Tsp\n",
    "from qiskit.algorithms import VQE, NumPyMinimumEigensolver\n",
    "from qiskit.algorithms.optimizers import SPSA\n",
    "from qiskit.utils import algorithm_globals, QuantumInstance\n",
    "from qiskit_optimization.algorithms import MinimumEigenOptimizer\n",
    "from qiskit_optimization.problems import QuadraticProgram\n",
    "from qiskit.algorithms.minimum_eigen_solvers import QAOA"
   ]
  },
  {
   "attachments": {},
   "cell_type": "markdown",
   "id": "6765f4b2",
   "metadata": {},
   "source": [
    "## Problem Definition"
   ]
  },
  {
   "cell_type": "code",
   "execution_count": null,
   "id": "4121a512",
   "metadata": {},
   "outputs": [],
   "source": [
    "n = 4  # Number of nodes in graph\n",
    "G = nx.Graph()\n",
    "G.add_nodes_from(np.arange(0, n, 1))\n",
    "elist = [(0, 1, 1.0), (0, 2, 1.0), (0, 3, 1.0), (1, 2, 1.0), (2, 3, 1.0)]\n",
    "# tuple is (i,j,weight) where (i,j) is the edge\n",
    "G.add_weighted_edges_from(elist)\n",
    "\n",
    "colors = [\"r\" for node in G.nodes()]\n",
    "pos = nx.spring_layout(G)\n",
    "\n",
    "\n",
    "def draw_graph(G, colors, pos):\n",
    "    default_axes = plt.axes(frameon=True)\n",
    "    nx.draw_networkx(G, node_color=colors, node_size=600, alpha=0.8, ax=default_axes, pos=pos)\n",
    "    edge_labels = nx.get_edge_attributes(G, \"weight\")\n",
    "    nx.draw_networkx_edge_labels(G, pos=pos, edge_labels=edge_labels)\n",
    "\n",
    "\n",
    "draw_graph(G, colors, pos)"
   ]
  },
  {
   "attachments": {},
   "cell_type": "markdown",
   "id": "74ecee06",
   "metadata": {},
   "source": [
    "## Mapping problem to suitable format for Quantum Computing"
   ]
  },
  {
   "attachments": {},
   "cell_type": "markdown",
   "id": "1b9dd153",
   "metadata": {},
   "source": [
    "### Representation as Adjacency Matrix"
   ]
  },
  {
   "cell_type": "code",
   "execution_count": null,
   "id": "4ba61365",
   "metadata": {},
   "outputs": [],
   "source": [
    "# Computing the weight matrix from the random graph\n",
    "w = np.zeros([n, n])\n",
    "for i in range(n):\n",
    "    for j in range(n):\n",
    "        temp = G.get_edge_data(i, j, default=0)\n",
    "        if temp != 0:\n",
    "            w[i, j] = temp[\"weight\"]\n",
    "print(w)"
   ]
  },
  {
   "attachments": {},
   "cell_type": "markdown",
   "id": "7069096c",
   "metadata": {},
   "source": [
    "### Formulating as a QUBO"
   ]
  },
  {
   "cell_type": "code",
   "execution_count": null,
   "id": "1dc4537b",
   "metadata": {},
   "outputs": [],
   "source": [
    "max_cut = Maxcut(w)\n",
    "qp = max_cut.to_quadratic_program()\n",
    "print(qp.prettyprint())"
   ]
  },
  {
   "attachments": {},
   "cell_type": "markdown",
   "id": "d0dad35c",
   "metadata": {},
   "source": [
    "### Creating a Hamiltonian from QUBO by transforming it to a Ising Formulation first"
   ]
  },
  {
   "cell_type": "code",
   "execution_count": null,
   "id": "f32ecc53",
   "metadata": {},
   "outputs": [],
   "source": [
    "qubitOp, offset = qp.to_ising()\n",
    "print(\"Offset:\", offset)\n",
    "print(\"Ising Hamiltonian:\")\n",
    "print(str(qubitOp))"
   ]
  },
  {
   "attachments": {},
   "cell_type": "markdown",
   "id": "a2a8175f",
   "metadata": {},
   "source": [
    "## Use VQE algorithm to solve it"
   ]
  },
  {
   "cell_type": "code",
   "execution_count": null,
   "id": "76ea22ba",
   "metadata": {},
   "outputs": [],
   "source": [
    "backend = ddsim.DDSIMProvider().get_backend(\"qasm_simulator\")\n",
    "quantum_instance = QuantumInstance(backend)"
   ]
  },
  {
   "attachments": {},
   "cell_type": "markdown",
   "id": "9e7ccb76",
   "metadata": {},
   "source": [
    "### Select ansatz and initialize VQE solver"
   ]
  },
  {
   "cell_type": "code",
   "execution_count": null,
   "id": "ef27c19a",
   "metadata": {
    "scrolled": true
   },
   "outputs": [],
   "source": [
    "# construct VQE\n",
    "spsa = SPSA(maxiter=300)\n",
    "ry = TwoLocal(qubitOp.num_qubits, \"ry\", \"cz\", reps=5, entanglement=\"linear\")\n",
    "vqe = VQE(ry, optimizer=spsa, quantum_instance=quantum_instance)\n",
    "vqe.ansatz.decompose().draw(output=\"mpl\", fold=-1)"
   ]
  },
  {
   "attachments": {},
   "cell_type": "markdown",
   "id": "041064a8",
   "metadata": {},
   "source": [
    "### Execute VQE and print Result"
   ]
  },
  {
   "cell_type": "code",
   "execution_count": null,
   "id": "70108bb1",
   "metadata": {},
   "outputs": [],
   "source": [
    "result = vqe.compute_minimum_eigenvalue(qubitOp)\n",
    "\n",
    "x = max_cut.sample_most_likely(result.eigenstate)\n",
    "print(\"energy:\", result.eigenvalue.real)\n",
    "print(\"time:\", result.optimizer_time)\n",
    "print(\"max-cut objective:\", result.eigenvalue.real + offset)\n",
    "print(\"solution:\", x)\n",
    "print(\"solution objective:\", qp.objective.evaluate(x))"
   ]
  },
  {
   "cell_type": "code",
   "execution_count": null,
   "id": "c5f73da9",
   "metadata": {},
   "outputs": [],
   "source": [
    "qc = vqe.ansatz.bind_parameters(result.optimal_point)\n",
    "qc.decompose().draw(output=\"mpl\", fold=-1)"
   ]
  },
  {
   "attachments": {},
   "cell_type": "markdown",
   "id": "d5ee579a",
   "metadata": {},
   "source": [
    "## Visualize Result"
   ]
  },
  {
   "cell_type": "code",
   "execution_count": null,
   "id": "42184d69",
   "metadata": {
    "scrolled": true
   },
   "outputs": [],
   "source": [
    "# plot results\n",
    "colors = [\"r\" if x[i] == 0 else \"c\" for i in range(n)]\n",
    "draw_graph(G, colors, pos)\n"
   ]
  }
 ],
 "metadata": {
  "kernelspec": {
   "display_name": "Python 3",
   "language": "python",
   "name": "python3"
  },
  "language_info": {
   "codemirror_mode": {
    "name": "ipython",
    "version": 3
   },
   "file_extension": ".py",
   "mimetype": "text/x-python",
   "name": "python",
   "nbconvert_exporter": "python",
   "pygments_lexer": "ipython3",
   "version": "3.10.12"
  }
 },
 "nbformat": 4,
 "nbformat_minor": 5
}
